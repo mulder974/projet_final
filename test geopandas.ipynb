{
 "cells": [
  {
   "cell_type": "code",
   "execution_count": 1,
   "metadata": {},
   "outputs": [],
   "source": [
    "import pandas as pd\n",
    "import geopandas\n",
    "from shapely.geometry.polygon import Polygon\n",
    "from shapely.geometry.multipolygon import MultiPolygon"
   ]
  },
  {
   "cell_type": "code",
   "execution_count": 2,
   "metadata": {},
   "outputs": [
    {
     "output_type": "execute_result",
     "data": {
      "text/plain": [
       "       pop_est      continent                      name iso_a3  gdp_md_est  \\\n",
       "0       920938        Oceania                      Fiji    FJI      8374.0   \n",
       "1     53950935         Africa                  Tanzania    TZA    150600.0   \n",
       "2       603253         Africa                 W. Sahara    ESH       906.5   \n",
       "3     35623680  North America                    Canada    CAN   1674000.0   \n",
       "4    326625791  North America  United States of America    USA  18560000.0   \n",
       "..         ...            ...                       ...    ...         ...   \n",
       "172    7111024         Europe                    Serbia    SRB    101800.0   \n",
       "173     642550         Europe                Montenegro    MNE     10610.0   \n",
       "174    1895250         Europe                    Kosovo    -99     18490.0   \n",
       "175    1218208  North America       Trinidad and Tobago    TTO     43570.0   \n",
       "176   13026129         Africa                  S. Sudan    SSD     20880.0   \n",
       "\n",
       "                                              geometry  \n",
       "0    MULTIPOLYGON (((180.00000 -16.06713, 180.00000...  \n",
       "1    POLYGON ((33.90371 -0.95000, 34.07262 -1.05982...  \n",
       "2    POLYGON ((-8.66559 27.65643, -8.66512 27.58948...  \n",
       "3    MULTIPOLYGON (((-122.84000 49.00000, -122.9742...  \n",
       "4    MULTIPOLYGON (((-122.84000 49.00000, -120.0000...  \n",
       "..                                                 ...  \n",
       "172  POLYGON ((18.82982 45.90887, 18.82984 45.90888...  \n",
       "173  POLYGON ((20.07070 42.58863, 19.80161 42.50009...  \n",
       "174  POLYGON ((20.59025 41.85541, 20.52295 42.21787...  \n",
       "175  POLYGON ((-61.68000 10.76000, -61.10500 10.890...  \n",
       "176  POLYGON ((30.83385 3.50917, 29.95350 4.17370, ...  \n",
       "\n",
       "[177 rows x 6 columns]"
      ],
      "text/html": "<div>\n<style scoped>\n    .dataframe tbody tr th:only-of-type {\n        vertical-align: middle;\n    }\n\n    .dataframe tbody tr th {\n        vertical-align: top;\n    }\n\n    .dataframe thead th {\n        text-align: right;\n    }\n</style>\n<table border=\"1\" class=\"dataframe\">\n  <thead>\n    <tr style=\"text-align: right;\">\n      <th></th>\n      <th>pop_est</th>\n      <th>continent</th>\n      <th>name</th>\n      <th>iso_a3</th>\n      <th>gdp_md_est</th>\n      <th>geometry</th>\n    </tr>\n  </thead>\n  <tbody>\n    <tr>\n      <th>0</th>\n      <td>920938</td>\n      <td>Oceania</td>\n      <td>Fiji</td>\n      <td>FJI</td>\n      <td>8374.0</td>\n      <td>MULTIPOLYGON (((180.00000 -16.06713, 180.00000...</td>\n    </tr>\n    <tr>\n      <th>1</th>\n      <td>53950935</td>\n      <td>Africa</td>\n      <td>Tanzania</td>\n      <td>TZA</td>\n      <td>150600.0</td>\n      <td>POLYGON ((33.90371 -0.95000, 34.07262 -1.05982...</td>\n    </tr>\n    <tr>\n      <th>2</th>\n      <td>603253</td>\n      <td>Africa</td>\n      <td>W. Sahara</td>\n      <td>ESH</td>\n      <td>906.5</td>\n      <td>POLYGON ((-8.66559 27.65643, -8.66512 27.58948...</td>\n    </tr>\n    <tr>\n      <th>3</th>\n      <td>35623680</td>\n      <td>North America</td>\n      <td>Canada</td>\n      <td>CAN</td>\n      <td>1674000.0</td>\n      <td>MULTIPOLYGON (((-122.84000 49.00000, -122.9742...</td>\n    </tr>\n    <tr>\n      <th>4</th>\n      <td>326625791</td>\n      <td>North America</td>\n      <td>United States of America</td>\n      <td>USA</td>\n      <td>18560000.0</td>\n      <td>MULTIPOLYGON (((-122.84000 49.00000, -120.0000...</td>\n    </tr>\n    <tr>\n      <th>...</th>\n      <td>...</td>\n      <td>...</td>\n      <td>...</td>\n      <td>...</td>\n      <td>...</td>\n      <td>...</td>\n    </tr>\n    <tr>\n      <th>172</th>\n      <td>7111024</td>\n      <td>Europe</td>\n      <td>Serbia</td>\n      <td>SRB</td>\n      <td>101800.0</td>\n      <td>POLYGON ((18.82982 45.90887, 18.82984 45.90888...</td>\n    </tr>\n    <tr>\n      <th>173</th>\n      <td>642550</td>\n      <td>Europe</td>\n      <td>Montenegro</td>\n      <td>MNE</td>\n      <td>10610.0</td>\n      <td>POLYGON ((20.07070 42.58863, 19.80161 42.50009...</td>\n    </tr>\n    <tr>\n      <th>174</th>\n      <td>1895250</td>\n      <td>Europe</td>\n      <td>Kosovo</td>\n      <td>-99</td>\n      <td>18490.0</td>\n      <td>POLYGON ((20.59025 41.85541, 20.52295 42.21787...</td>\n    </tr>\n    <tr>\n      <th>175</th>\n      <td>1218208</td>\n      <td>North America</td>\n      <td>Trinidad and Tobago</td>\n      <td>TTO</td>\n      <td>43570.0</td>\n      <td>POLYGON ((-61.68000 10.76000, -61.10500 10.890...</td>\n    </tr>\n    <tr>\n      <th>176</th>\n      <td>13026129</td>\n      <td>Africa</td>\n      <td>S. Sudan</td>\n      <td>SSD</td>\n      <td>20880.0</td>\n      <td>POLYGON ((30.83385 3.50917, 29.95350 4.17370, ...</td>\n    </tr>\n  </tbody>\n</table>\n<p>177 rows × 6 columns</p>\n</div>"
     },
     "metadata": {},
     "execution_count": 2
    }
   ],
   "source": [
    "df =geopandas.read_file(geopandas.datasets.get_path('naturalearth_lowres'))\n",
    "df"
   ]
  },
  {
   "cell_type": "code",
   "execution_count": 3,
   "metadata": {},
   "outputs": [
    {
     "output_type": "execute_result",
     "data": {
      "text/plain": [
       "                         name  \\\n",
       "0                        Fiji   \n",
       "1                    Tanzania   \n",
       "2                   W. Sahara   \n",
       "3                      Canada   \n",
       "4    United States of America   \n",
       "..                        ...   \n",
       "172                    Serbia   \n",
       "173                Montenegro   \n",
       "174                    Kosovo   \n",
       "175       Trinidad and Tobago   \n",
       "176                  S. Sudan   \n",
       "\n",
       "                                              geometry  \n",
       "0    MULTIPOLYGON (((180.00000 -16.06713, 180.00000...  \n",
       "1    MULTIPOLYGON (((33.90371 -0.95000, 34.07262 -1...  \n",
       "2    MULTIPOLYGON (((-8.66559 27.65643, -8.66512 27...  \n",
       "3    MULTIPOLYGON (((-122.84000 49.00000, -122.9742...  \n",
       "4    MULTIPOLYGON (((-122.84000 49.00000, -120.0000...  \n",
       "..                                                 ...  \n",
       "172  MULTIPOLYGON (((18.82982 45.90887, 18.82984 45...  \n",
       "173  MULTIPOLYGON (((20.07070 42.58863, 19.80161 42...  \n",
       "174  MULTIPOLYGON (((20.59025 41.85541, 20.52295 42...  \n",
       "175  MULTIPOLYGON (((-61.68000 10.76000, -61.10500 ...  \n",
       "176  MULTIPOLYGON (((30.83385 3.50917, 29.95350 4.1...  \n",
       "\n",
       "[177 rows x 2 columns]"
      ],
      "text/html": "<div>\n<style scoped>\n    .dataframe tbody tr th:only-of-type {\n        vertical-align: middle;\n    }\n\n    .dataframe tbody tr th {\n        vertical-align: top;\n    }\n\n    .dataframe thead th {\n        text-align: right;\n    }\n</style>\n<table border=\"1\" class=\"dataframe\">\n  <thead>\n    <tr style=\"text-align: right;\">\n      <th></th>\n      <th>name</th>\n      <th>geometry</th>\n    </tr>\n  </thead>\n  <tbody>\n    <tr>\n      <th>0</th>\n      <td>Fiji</td>\n      <td>MULTIPOLYGON (((180.00000 -16.06713, 180.00000...</td>\n    </tr>\n    <tr>\n      <th>1</th>\n      <td>Tanzania</td>\n      <td>MULTIPOLYGON (((33.90371 -0.95000, 34.07262 -1...</td>\n    </tr>\n    <tr>\n      <th>2</th>\n      <td>W. Sahara</td>\n      <td>MULTIPOLYGON (((-8.66559 27.65643, -8.66512 27...</td>\n    </tr>\n    <tr>\n      <th>3</th>\n      <td>Canada</td>\n      <td>MULTIPOLYGON (((-122.84000 49.00000, -122.9742...</td>\n    </tr>\n    <tr>\n      <th>4</th>\n      <td>United States of America</td>\n      <td>MULTIPOLYGON (((-122.84000 49.00000, -120.0000...</td>\n    </tr>\n    <tr>\n      <th>...</th>\n      <td>...</td>\n      <td>...</td>\n    </tr>\n    <tr>\n      <th>172</th>\n      <td>Serbia</td>\n      <td>MULTIPOLYGON (((18.82982 45.90887, 18.82984 45...</td>\n    </tr>\n    <tr>\n      <th>173</th>\n      <td>Montenegro</td>\n      <td>MULTIPOLYGON (((20.07070 42.58863, 19.80161 42...</td>\n    </tr>\n    <tr>\n      <th>174</th>\n      <td>Kosovo</td>\n      <td>MULTIPOLYGON (((20.59025 41.85541, 20.52295 42...</td>\n    </tr>\n    <tr>\n      <th>175</th>\n      <td>Trinidad and Tobago</td>\n      <td>MULTIPOLYGON (((-61.68000 10.76000, -61.10500 ...</td>\n    </tr>\n    <tr>\n      <th>176</th>\n      <td>S. Sudan</td>\n      <td>MULTIPOLYGON (((30.83385 3.50917, 29.95350 4.1...</td>\n    </tr>\n  </tbody>\n</table>\n<p>177 rows × 2 columns</p>\n</div>"
     },
     "metadata": {},
     "execution_count": 3
    }
   ],
   "source": [
    "df = df[['name','geometry']]\n",
    "df[\"geometry\"] = [MultiPolygon([feature]) if type(feature) == Polygon \\\n",
    "    else feature for feature in df[\"geometry\"]]\n",
    "df\n",
    "    "
   ]
  },
  {
   "cell_type": "code",
   "execution_count": 4,
   "metadata": {},
   "outputs": [
    {
     "output_type": "execute_result",
     "data": {
      "text/plain": [
       "{'name': 'Fiji',\n",
       " 'geometry': <shapely.geometry.multipolygon.MultiPolygon at 0x7f4aaf33ee80>}"
      ]
     },
     "metadata": {},
     "execution_count": 4
    }
   ],
   "source": [
    "dic = df.to_dict(orient='records')\n",
    "dic[0]"
   ]
  },
  {
   "cell_type": "code",
   "execution_count": 5,
   "metadata": {},
   "outputs": [
    {
     "output_type": "stream",
     "name": "stdout",
     "text": [
      "dict_keys(['Fiji', 'Tanzania', 'W. Sahara', 'Canada', 'Kazakhstan', 'Uzbekistan', 'Papua New Guinea', 'Indonesia', 'Argentina', 'Chile', 'Dem. Rep. Congo', 'Somalia', 'Kenya', 'Sudan', 'Chad', 'Haiti', 'Dominican Rep.', 'Bahamas', 'Falkland Is.', 'Norway', 'Greenland', 'Fr. S. Antarctic Lands', 'Timor-Leste', 'South Africa', 'Lesotho', 'Mexico', 'Uruguay', 'Brazil', 'Bolivia', 'Peru', 'Colombia', 'Panama', 'Costa Rica', 'Nicaragua', 'Honduras', 'El Salvador', 'Guatemala', 'Belize', 'Venezuela', 'Guyana', 'Suriname', 'France', 'Ecuador', 'Puerto Rico', 'Jamaica', 'Cuba', 'Zimbabwe', 'Botswana', 'Namibia', 'Senegal', 'Mali', 'Mauritania', 'Benin', 'Niger', 'Nigeria', 'Cameroon', 'Togo', 'Ghana', \"Côte d'Ivoire\", 'Guinea', 'Guinea-Bissau', 'Liberia', 'Sierra Leone', 'Burkina Faso', 'Central African Rep.', 'Congo', 'Gabon', 'Zambia', 'Malawi', 'Mozambique', 'eSwatini', 'Angola', 'Burundi', 'Israel', 'Lebanon', 'Madagascar', 'Palestine', 'Gambia', 'Tunisia', 'Algeria', 'Jordan', 'United Arab Emirates', 'Qatar', 'Kuwait', 'Iraq', 'Oman', 'Vanuatu', 'Cambodia', 'Thailand', 'Laos', 'Myanmar', 'Vietnam', 'North Korea', 'South Korea', 'Mongolia', 'India', 'Bangladesh', 'Bhutan', 'Nepal', 'Pakistan', 'Afghanistan', 'Tajikistan', 'Kyrgyzstan', 'Turkmenistan', 'Iran', 'Syria', 'Armenia', 'Sweden', 'Belarus', 'Ukraine', 'Poland', 'Austria', 'Hungary', 'Moldova', 'Romania', 'Lithuania', 'Latvia', 'Estonia', 'Germany', 'Bulgaria', 'Greece', 'Turkey', 'Albania', 'Croatia', 'Switzerland', 'Luxembourg', 'Belgium', 'Netherlands', 'Portugal', 'Spain', 'Ireland', 'New Caledonia', 'Solomon Is.', 'New Zealand', 'Australia', 'Sri Lanka', 'China', 'Taiwan', 'Italy', 'Denmark', 'United Kingdom', 'Iceland', 'Azerbaijan', 'Georgia', 'Philippines', 'Malaysia', 'Brunei', 'Slovenia', 'Finland', 'Slovakia', 'Eritrea', 'Japan', 'Paraguay', 'Yemen', 'Saudi Arabia', 'Antarctica', 'N. Cyprus', 'Cyprus', 'Morocco', 'Egypt', 'Libya', 'Ethiopia', 'Djibouti', 'Somaliland', 'Uganda', 'Rwanda', 'Bosnia and Herz.', 'Macedonia', 'Serbia', 'Montenegro', 'Kosovo', 'US', 'Trinidad & Tobago', 'South Sudan', 'Republic of Congo ', 'USSR', 'Russian Federation', 'Czech Republic', 'Equatorial Guinea'])\n"
     ]
    },
    {
     "output_type": "execute_result",
     "data": {
      "text/plain": [
       "{'Fiji': <shapely.geometry.multipolygon.MultiPolygon at 0x7f4aaf33ee80>,\n",
       " 'Tanzania': <shapely.geometry.multipolygon.MultiPolygon at 0x7f4aaf2539a0>,\n",
       " 'W. Sahara': <shapely.geometry.multipolygon.MultiPolygon at 0x7f4aaf253c40>,\n",
       " 'Canada': <shapely.geometry.multipolygon.MultiPolygon at 0x7f4ae099aaf0>,\n",
       " 'Kazakhstan': <shapely.geometry.multipolygon.MultiPolygon at 0x7f4aaf253d90>,\n",
       " 'Uzbekistan': <shapely.geometry.multipolygon.MultiPolygon at 0x7f4aaf253df0>,\n",
       " 'Papua New Guinea': <shapely.geometry.multipolygon.MultiPolygon at 0x7f4aaf33efd0>,\n",
       " 'Indonesia': <shapely.geometry.multipolygon.MultiPolygon at 0x7f4ae012a760>,\n",
       " 'Argentina': <shapely.geometry.multipolygon.MultiPolygon at 0x7f4aaf33edf0>,\n",
       " 'Chile': <shapely.geometry.multipolygon.MultiPolygon at 0x7f4aaf2bd040>,\n",
       " 'Dem. Rep. Congo': <shapely.geometry.multipolygon.MultiPolygon at 0x7f4aaf253e50>,\n",
       " 'Somalia': <shapely.geometry.multipolygon.MultiPolygon at 0x7f4ae012af10>,\n",
       " 'Kenya': <shapely.geometry.multipolygon.MultiPolygon at 0x7f4ae012adf0>,\n",
       " 'Sudan': <shapely.geometry.multipolygon.MultiPolygon at 0x7f4ae012a7c0>,\n",
       " 'Chad': <shapely.geometry.multipolygon.MultiPolygon at 0x7f4ae012af70>,\n",
       " 'Haiti': <shapely.geometry.multipolygon.MultiPolygon at 0x7f4aaf253c70>,\n",
       " 'Dominican Rep.': <shapely.geometry.multipolygon.MultiPolygon at 0x7f4aaf253e80>,\n",
       " 'Bahamas': <shapely.geometry.multipolygon.MultiPolygon at 0x7f4aaf2bd3d0>,\n",
       " 'Falkland Is.': <shapely.geometry.multipolygon.MultiPolygon at 0x7f4aaf253ee0>,\n",
       " 'Norway': <shapely.geometry.multipolygon.MultiPolygon at 0x7f4aaf2bd460>,\n",
       " 'Greenland': <shapely.geometry.multipolygon.MultiPolygon at 0x7f4aaf253f40>,\n",
       " 'Fr. S. Antarctic Lands': <shapely.geometry.multipolygon.MultiPolygon at 0x7f4aaf253fd0>,\n",
       " 'Timor-Leste': <shapely.geometry.multipolygon.MultiPolygon at 0x7f4aaf253fa0>,\n",
       " 'South Africa': <shapely.geometry.multipolygon.MultiPolygon at 0x7f4aaf253be0>,\n",
       " 'Lesotho': <shapely.geometry.multipolygon.MultiPolygon at 0x7f4aaf253730>,\n",
       " 'Mexico': <shapely.geometry.multipolygon.MultiPolygon at 0x7f4aaf253b50>,\n",
       " 'Uruguay': <shapely.geometry.multipolygon.MultiPolygon at 0x7f4aaf25f0d0>,\n",
       " 'Brazil': <shapely.geometry.multipolygon.MultiPolygon at 0x7f4aaf25f040>,\n",
       " 'Bolivia': <shapely.geometry.multipolygon.MultiPolygon at 0x7f4aaf25f1c0>,\n",
       " 'Peru': <shapely.geometry.multipolygon.MultiPolygon at 0x7f4aaf25f220>,\n",
       " 'Colombia': <shapely.geometry.multipolygon.MultiPolygon at 0x7f4aaf25f280>,\n",
       " 'Panama': <shapely.geometry.multipolygon.MultiPolygon at 0x7f4aaf25f2e0>,\n",
       " 'Costa Rica': <shapely.geometry.multipolygon.MultiPolygon at 0x7f4aaf25f340>,\n",
       " 'Nicaragua': <shapely.geometry.multipolygon.MultiPolygon at 0x7f4aaf25f3a0>,\n",
       " 'Honduras': <shapely.geometry.multipolygon.MultiPolygon at 0x7f4aaf25f430>,\n",
       " 'El Salvador': <shapely.geometry.multipolygon.MultiPolygon at 0x7f4aaf25f460>,\n",
       " 'Guatemala': <shapely.geometry.multipolygon.MultiPolygon at 0x7f4aaf25f4c0>,\n",
       " 'Belize': <shapely.geometry.multipolygon.MultiPolygon at 0x7f4aaf25f520>,\n",
       " 'Venezuela': <shapely.geometry.multipolygon.MultiPolygon at 0x7f4aaf25f580>,\n",
       " 'Guyana': <shapely.geometry.multipolygon.MultiPolygon at 0x7f4aaf25f5e0>,\n",
       " 'Suriname': <shapely.geometry.multipolygon.MultiPolygon at 0x7f4aaf25f640>,\n",
       " 'France': <shapely.geometry.multipolygon.MultiPolygon at 0x7f4aaf2bdcd0>,\n",
       " 'Ecuador': <shapely.geometry.multipolygon.MultiPolygon at 0x7f4aaf25f6a0>,\n",
       " 'Puerto Rico': <shapely.geometry.multipolygon.MultiPolygon at 0x7f4aaf25f700>,\n",
       " 'Jamaica': <shapely.geometry.multipolygon.MultiPolygon at 0x7f4aaf25f130>,\n",
       " 'Cuba': <shapely.geometry.multipolygon.MultiPolygon at 0x7f4aaf25f790>,\n",
       " 'Zimbabwe': <shapely.geometry.multipolygon.MultiPolygon at 0x7f4aaf25f7f0>,\n",
       " 'Botswana': <shapely.geometry.multipolygon.MultiPolygon at 0x7f4aaf25f850>,\n",
       " 'Namibia': <shapely.geometry.multipolygon.MultiPolygon at 0x7f4aaf25f8b0>,\n",
       " 'Senegal': <shapely.geometry.multipolygon.MultiPolygon at 0x7f4aaf25f910>,\n",
       " 'Mali': <shapely.geometry.multipolygon.MultiPolygon at 0x7f4aaf25f970>,\n",
       " 'Mauritania': <shapely.geometry.multipolygon.MultiPolygon at 0x7f4aaf25f9d0>,\n",
       " 'Benin': <shapely.geometry.multipolygon.MultiPolygon at 0x7f4aaf25fa90>,\n",
       " 'Niger': <shapely.geometry.multipolygon.MultiPolygon at 0x7f4aaf25faf0>,\n",
       " 'Nigeria': <shapely.geometry.multipolygon.MultiPolygon at 0x7f4aaf25fb50>,\n",
       " 'Cameroon': <shapely.geometry.multipolygon.MultiPolygon at 0x7f4aaf25fbb0>,\n",
       " 'Togo': <shapely.geometry.multipolygon.MultiPolygon at 0x7f4aaf25fc10>,\n",
       " 'Ghana': <shapely.geometry.multipolygon.MultiPolygon at 0x7f4aaf25fc70>,\n",
       " \"Côte d'Ivoire\": <shapely.geometry.multipolygon.MultiPolygon at 0x7f4aaf25fd00>,\n",
       " 'Guinea': <shapely.geometry.multipolygon.MultiPolygon at 0x7f4aaf25fd30>,\n",
       " 'Guinea-Bissau': <shapely.geometry.multipolygon.MultiPolygon at 0x7f4aaf25fd90>,\n",
       " 'Liberia': <shapely.geometry.multipolygon.MultiPolygon at 0x7f4aaf25fdf0>,\n",
       " 'Sierra Leone': <shapely.geometry.multipolygon.MultiPolygon at 0x7f4aaf25fe50>,\n",
       " 'Burkina Faso': <shapely.geometry.multipolygon.MultiPolygon at 0x7f4aaf25feb0>,\n",
       " 'Central African Rep.': <shapely.geometry.multipolygon.MultiPolygon at 0x7f4aaf25ff10>,\n",
       " 'Congo': <shapely.geometry.multipolygon.MultiPolygon at 0x7f4aaf25ff70>,\n",
       " 'Gabon': <shapely.geometry.multipolygon.MultiPolygon at 0x7f4aaf25ffd0>,\n",
       " 'Zambia': <shapely.geometry.multipolygon.MultiPolygon at 0x7f4aaf25f100>,\n",
       " 'Malawi': <shapely.geometry.multipolygon.MultiPolygon at 0x7f4aaf2600a0>,\n",
       " 'Mozambique': <shapely.geometry.multipolygon.MultiPolygon at 0x7f4aaf260130>,\n",
       " 'eSwatini': <shapely.geometry.multipolygon.MultiPolygon at 0x7f4aaf260190>,\n",
       " 'Angola': <shapely.geometry.multipolygon.MultiPolygon at 0x7f4aaf2d58b0>,\n",
       " 'Burundi': <shapely.geometry.multipolygon.MultiPolygon at 0x7f4aaf2601f0>,\n",
       " 'Israel': <shapely.geometry.multipolygon.MultiPolygon at 0x7f4aaf260250>,\n",
       " 'Lebanon': <shapely.geometry.multipolygon.MultiPolygon at 0x7f4aaf2602b0>,\n",
       " 'Madagascar': <shapely.geometry.multipolygon.MultiPolygon at 0x7f4aaf260310>,\n",
       " 'Palestine': <shapely.geometry.multipolygon.MultiPolygon at 0x7f4aaf260370>,\n",
       " 'Gambia': <shapely.geometry.multipolygon.MultiPolygon at 0x7f4aaf260400>,\n",
       " 'Tunisia': <shapely.geometry.multipolygon.MultiPolygon at 0x7f4aaf260460>,\n",
       " 'Algeria': <shapely.geometry.multipolygon.MultiPolygon at 0x7f4aaf2604c0>,\n",
       " 'Jordan': <shapely.geometry.multipolygon.MultiPolygon at 0x7f4aaf260520>,\n",
       " 'United Arab Emirates': <shapely.geometry.multipolygon.MultiPolygon at 0x7f4aaf2605b0>,\n",
       " 'Qatar': <shapely.geometry.multipolygon.MultiPolygon at 0x7f4aaf2605e0>,\n",
       " 'Kuwait': <shapely.geometry.multipolygon.MultiPolygon at 0x7f4aaf260640>,\n",
       " 'Iraq': <shapely.geometry.multipolygon.MultiPolygon at 0x7f4aaf2606a0>,\n",
       " 'Oman': <shapely.geometry.multipolygon.MultiPolygon at 0x7f4aaf2d5df0>,\n",
       " 'Vanuatu': <shapely.geometry.multipolygon.MultiPolygon at 0x7f4aaf2d5e50>,\n",
       " 'Cambodia': <shapely.geometry.multipolygon.MultiPolygon at 0x7f4aaf260700>,\n",
       " 'Thailand': <shapely.geometry.multipolygon.MultiPolygon at 0x7f4aaf260760>,\n",
       " 'Laos': <shapely.geometry.multipolygon.MultiPolygon at 0x7f4aaf2607c0>,\n",
       " 'Myanmar': <shapely.geometry.multipolygon.MultiPolygon at 0x7f4aaf260820>,\n",
       " 'Vietnam': <shapely.geometry.multipolygon.MultiPolygon at 0x7f4aaf260880>,\n",
       " 'North Korea': <shapely.geometry.multipolygon.MultiPolygon at 0x7f4aaf2710d0>,\n",
       " 'South Korea': <shapely.geometry.multipolygon.MultiPolygon at 0x7f4aaf2603d0>,\n",
       " 'Mongolia': <shapely.geometry.multipolygon.MultiPolygon at 0x7f4aaf260910>,\n",
       " 'India': <shapely.geometry.multipolygon.MultiPolygon at 0x7f4aaf260970>,\n",
       " 'Bangladesh': <shapely.geometry.multipolygon.MultiPolygon at 0x7f4aaf2609d0>,\n",
       " 'Bhutan': <shapely.geometry.multipolygon.MultiPolygon at 0x7f4aaf260a30>,\n",
       " 'Nepal': <shapely.geometry.multipolygon.MultiPolygon at 0x7f4aaf260a90>,\n",
       " 'Pakistan': <shapely.geometry.multipolygon.MultiPolygon at 0x7f4aaf260af0>,\n",
       " 'Afghanistan': <shapely.geometry.multipolygon.MultiPolygon at 0x7f4aaf260b50>,\n",
       " 'Tajikistan': <shapely.geometry.multipolygon.MultiPolygon at 0x7f4aaf260bb0>,\n",
       " 'Kyrgyzstan': <shapely.geometry.multipolygon.MultiPolygon at 0x7f4aaf260c10>,\n",
       " 'Turkmenistan': <shapely.geometry.multipolygon.MultiPolygon at 0x7f4aaf260c70>,\n",
       " 'Iran': <shapely.geometry.multipolygon.MultiPolygon at 0x7f4aaf260cd0>,\n",
       " 'Syria': <shapely.geometry.multipolygon.MultiPolygon at 0x7f4aaf260d30>,\n",
       " 'Armenia': <shapely.geometry.multipolygon.MultiPolygon at 0x7f4aaf260d90>,\n",
       " 'Sweden': <shapely.geometry.multipolygon.MultiPolygon at 0x7f4aaf260df0>,\n",
       " 'Belarus': <shapely.geometry.multipolygon.MultiPolygon at 0x7f4aaf260e50>,\n",
       " 'Ukraine': <shapely.geometry.multipolygon.MultiPolygon at 0x7f4aaf260eb0>,\n",
       " 'Poland': <shapely.geometry.multipolygon.MultiPolygon at 0x7f4aaf260f10>,\n",
       " 'Austria': <shapely.geometry.multipolygon.MultiPolygon at 0x7f4aaf260f70>,\n",
       " 'Hungary': <shapely.geometry.multipolygon.MultiPolygon at 0x7f4aaf260fd0>,\n",
       " 'Moldova': <shapely.geometry.multipolygon.MultiPolygon at 0x7f4aaf2600d0>,\n",
       " 'Romania': <shapely.geometry.multipolygon.MultiPolygon at 0x7f4aaf2650a0>,\n",
       " 'Lithuania': <shapely.geometry.multipolygon.MultiPolygon at 0x7f4aaf265130>,\n",
       " 'Latvia': <shapely.geometry.multipolygon.MultiPolygon at 0x7f4aaf265190>,\n",
       " 'Estonia': <shapely.geometry.multipolygon.MultiPolygon at 0x7f4aaf2651f0>,\n",
       " 'Germany': <shapely.geometry.multipolygon.MultiPolygon at 0x7f4aaf265250>,\n",
       " 'Bulgaria': <shapely.geometry.multipolygon.MultiPolygon at 0x7f4aaf2652b0>,\n",
       " 'Greece': <shapely.geometry.multipolygon.MultiPolygon at 0x7f4aaf271b50>,\n",
       " 'Turkey': <shapely.geometry.multipolygon.MultiPolygon at 0x7f4aaf271bb0>,\n",
       " 'Albania': <shapely.geometry.multipolygon.MultiPolygon at 0x7f4aaf265310>,\n",
       " 'Croatia': <shapely.geometry.multipolygon.MultiPolygon at 0x7f4aaf265370>,\n",
       " 'Switzerland': <shapely.geometry.multipolygon.MultiPolygon at 0x7f4aaf2653d0>,\n",
       " 'Luxembourg': <shapely.geometry.multipolygon.MultiPolygon at 0x7f4aaf265430>,\n",
       " 'Belgium': <shapely.geometry.multipolygon.MultiPolygon at 0x7f4aaf265490>,\n",
       " 'Netherlands': <shapely.geometry.multipolygon.MultiPolygon at 0x7f4aaf2654f0>,\n",
       " 'Portugal': <shapely.geometry.multipolygon.MultiPolygon at 0x7f4aaf265550>,\n",
       " 'Spain': <shapely.geometry.multipolygon.MultiPolygon at 0x7f4aaf2655b0>,\n",
       " 'Ireland': <shapely.geometry.multipolygon.MultiPolygon at 0x7f4aaf265610>,\n",
       " 'New Caledonia': <shapely.geometry.multipolygon.MultiPolygon at 0x7f4aaf265670>,\n",
       " 'Solomon Is.': <shapely.geometry.multipolygon.MultiPolygon at 0x7f4aaf271fd0>,\n",
       " 'New Zealand': <shapely.geometry.multipolygon.MultiPolygon at 0x7f4aaf27c070>,\n",
       " 'Australia': <shapely.geometry.multipolygon.MultiPolygon at 0x7f4aaf27c0a0>,\n",
       " 'Sri Lanka': <shapely.geometry.multipolygon.MultiPolygon at 0x7f4aaf2656d0>,\n",
       " 'China': <shapely.geometry.multipolygon.MultiPolygon at 0x7f4aaf27c160>,\n",
       " 'Taiwan': <shapely.geometry.multipolygon.MultiPolygon at 0x7f4aaf265730>,\n",
       " 'Italy': <shapely.geometry.multipolygon.MultiPolygon at 0x7f4aaf27c250>,\n",
       " 'Denmark': <shapely.geometry.multipolygon.MultiPolygon at 0x7f4aaf27c280>,\n",
       " 'United Kingdom': <shapely.geometry.multipolygon.MultiPolygon at 0x7f4aaf27c310>,\n",
       " 'Iceland': <shapely.geometry.multipolygon.MultiPolygon at 0x7f4aaf265790>,\n",
       " 'Azerbaijan': <shapely.geometry.multipolygon.MultiPolygon at 0x7f4aaf27c3a0>,\n",
       " 'Georgia': <shapely.geometry.multipolygon.MultiPolygon at 0x7f4aaf2657f0>,\n",
       " 'Philippines': <shapely.geometry.multipolygon.MultiPolygon at 0x7f4aaf27c490>,\n",
       " 'Malaysia': <shapely.geometry.multipolygon.MultiPolygon at 0x7f4aaf27c4c0>,\n",
       " 'Brunei': <shapely.geometry.multipolygon.MultiPolygon at 0x7f4aaf265850>,\n",
       " 'Slovenia': <shapely.geometry.multipolygon.MultiPolygon at 0x7f4aaf2658b0>,\n",
       " 'Finland': <shapely.geometry.multipolygon.MultiPolygon at 0x7f4aaf265910>,\n",
       " 'Slovakia': <shapely.geometry.multipolygon.MultiPolygon at 0x7f4aaf265970>,\n",
       " 'Eritrea': <shapely.geometry.multipolygon.MultiPolygon at 0x7f4aaf265a30>,\n",
       " 'Japan': <shapely.geometry.multipolygon.MultiPolygon at 0x7f4aaf27c790>,\n",
       " 'Paraguay': <shapely.geometry.multipolygon.MultiPolygon at 0x7f4aaf265a90>,\n",
       " 'Yemen': <shapely.geometry.multipolygon.MultiPolygon at 0x7f4aaf265af0>,\n",
       " 'Saudi Arabia': <shapely.geometry.multipolygon.MultiPolygon at 0x7f4aaf265b50>,\n",
       " 'Antarctica': <shapely.geometry.multipolygon.MultiPolygon at 0x7f4aaf27c910>,\n",
       " 'N. Cyprus': <shapely.geometry.multipolygon.MultiPolygon at 0x7f4aaf265bb0>,\n",
       " 'Cyprus': <shapely.geometry.multipolygon.MultiPolygon at 0x7f4aaf265c10>,\n",
       " 'Morocco': <shapely.geometry.multipolygon.MultiPolygon at 0x7f4aaf265c70>,\n",
       " 'Egypt': <shapely.geometry.multipolygon.MultiPolygon at 0x7f4aaf265cd0>,\n",
       " 'Libya': <shapely.geometry.multipolygon.MultiPolygon at 0x7f4aaf265d30>,\n",
       " 'Ethiopia': <shapely.geometry.multipolygon.MultiPolygon at 0x7f4aaf265d90>,\n",
       " 'Djibouti': <shapely.geometry.multipolygon.MultiPolygon at 0x7f4aaf265df0>,\n",
       " 'Somaliland': <shapely.geometry.multipolygon.MultiPolygon at 0x7f4aaf265e50>,\n",
       " 'Uganda': <shapely.geometry.multipolygon.MultiPolygon at 0x7f4aaf265eb0>,\n",
       " 'Rwanda': <shapely.geometry.multipolygon.MultiPolygon at 0x7f4aaf265f10>,\n",
       " 'Bosnia and Herz.': <shapely.geometry.multipolygon.MultiPolygon at 0x7f4aaf265f70>,\n",
       " 'Macedonia': <shapely.geometry.multipolygon.MultiPolygon at 0x7f4aaf265fd0>,\n",
       " 'Serbia': <shapely.geometry.multipolygon.MultiPolygon at 0x7f4aaf2650d0>,\n",
       " 'Montenegro': <shapely.geometry.multipolygon.MultiPolygon at 0x7f4aaf2670a0>,\n",
       " 'Kosovo': <shapely.geometry.multipolygon.MultiPolygon at 0x7f4aaf267130>,\n",
       " 'US': <shapely.geometry.multipolygon.MultiPolygon at 0x7f4ae012ad90>,\n",
       " 'Trinidad & Tobago': <shapely.geometry.multipolygon.MultiPolygon at 0x7f4aaf267190>,\n",
       " 'South Sudan': <shapely.geometry.multipolygon.MultiPolygon at 0x7f4aaf2671f0>,\n",
       " 'Republic of Congo ': <shapely.geometry.multipolygon.MultiPolygon at 0x7f4aaf253e50>,\n",
       " 'USSR': <shapely.geometry.multipolygon.MultiPolygon at 0x7f4aaf2bd370>,\n",
       " 'Russian Federation': <shapely.geometry.multipolygon.MultiPolygon at 0x7f4aaf2bd370>,\n",
       " 'Czech Republic': <shapely.geometry.multipolygon.MultiPolygon at 0x7f4aaf2659d0>,\n",
       " 'Equatorial Guinea': <shapely.geometry.multipolygon.MultiPolygon at 0x7f4aaf25fa00>}"
      ]
     },
     "metadata": {},
     "execution_count": 5
    }
   ],
   "source": [
    "dic_={}\n",
    "\n",
    "for e in dic:\n",
    "    dic_[e['name']]= e['geometry']\n",
    "\n",
    "dic_['US'] = dic_['United States of America']\n",
    "del dic_['United States of America']\n",
    "\n",
    "dic_['Trinidad & Tobago'] = dic_['Trinidad and Tobago']\n",
    "del dic_['Trinidad and Tobago']\n",
    "\n",
    "dic_['South Sudan'] = dic_['S. Sudan']\n",
    "del dic_['S. Sudan']\n",
    "\n",
    "dic_['Republic of Congo '] = dic_['Dem. Rep. Congo']\n",
    "\n",
    "\n",
    "dic_['USSR'] = dic_['Russia']\n",
    "\n",
    "dic_['Russian Federation'] = dic_['Russia']\n",
    "del dic_['Russia']\n",
    "\n",
    "dic_['Czech Republic'] = dic_['Czechia']\n",
    "del dic_['Czechia']\n",
    "\n",
    "\n",
    "dic_['Equatorial Guinea'] = dic_['Eq. Guinea']\n",
    "del dic_['Eq. Guinea']\n",
    "\n",
    "\n",
    "print(dic_.keys())\n",
    "dic_"
   ]
  },
  {
   "cell_type": "code",
   "execution_count": 6,
   "metadata": {},
   "outputs": [
    {
     "output_type": "execute_result",
     "data": {
      "text/plain": [
       "                    name  region_id  \\\n",
       "0                 Canada          1   \n",
       "1                 Mexico          1   \n",
       "2                     US          1   \n",
       "3              Argentina          2   \n",
       "4                 Brazil          2   \n",
       "..                   ...        ...   \n",
       "107  China Hong Kong SAR          7   \n",
       "108          Philippines          7   \n",
       "109            Singapore          7   \n",
       "110            Sri Lanka          7   \n",
       "111               Taiwan          7   \n",
       "\n",
       "                                      geo_localisation  \n",
       "0    (POLYGON ((-122.84 49.00000000000011, -122.974...  \n",
       "1    (POLYGON ((-117.1277599999999 32.5353399999999...  \n",
       "2    (POLYGON ((-122.84 49.00000000000011, -120 49....  \n",
       "3    (POLYGON ((-68.63401022758323 -52.636370458874...  \n",
       "4    (POLYGON ((-53.37366166849824 -33.768377780900...  \n",
       "..                                                 ...  \n",
       "107                                                NaN  \n",
       "108  (POLYGON ((120.8338961121466 12.70449616134243...  \n",
       "109                                                NaN  \n",
       "110  (POLYGON ((81.7879590188914 7.523055324733164,...  \n",
       "111  (POLYGON ((121.7778178243899 24.3942735865194,...  \n",
       "\n",
       "[112 rows x 3 columns]"
      ],
      "text/html": "<div>\n<style scoped>\n    .dataframe tbody tr th:only-of-type {\n        vertical-align: middle;\n    }\n\n    .dataframe tbody tr th {\n        vertical-align: top;\n    }\n\n    .dataframe thead th {\n        text-align: right;\n    }\n</style>\n<table border=\"1\" class=\"dataframe\">\n  <thead>\n    <tr style=\"text-align: right;\">\n      <th></th>\n      <th>name</th>\n      <th>region_id</th>\n      <th>geo_localisation</th>\n    </tr>\n  </thead>\n  <tbody>\n    <tr>\n      <th>0</th>\n      <td>Canada</td>\n      <td>1</td>\n      <td>(POLYGON ((-122.84 49.00000000000011, -122.974...</td>\n    </tr>\n    <tr>\n      <th>1</th>\n      <td>Mexico</td>\n      <td>1</td>\n      <td>(POLYGON ((-117.1277599999999 32.5353399999999...</td>\n    </tr>\n    <tr>\n      <th>2</th>\n      <td>US</td>\n      <td>1</td>\n      <td>(POLYGON ((-122.84 49.00000000000011, -120 49....</td>\n    </tr>\n    <tr>\n      <th>3</th>\n      <td>Argentina</td>\n      <td>2</td>\n      <td>(POLYGON ((-68.63401022758323 -52.636370458874...</td>\n    </tr>\n    <tr>\n      <th>4</th>\n      <td>Brazil</td>\n      <td>2</td>\n      <td>(POLYGON ((-53.37366166849824 -33.768377780900...</td>\n    </tr>\n    <tr>\n      <th>...</th>\n      <td>...</td>\n      <td>...</td>\n      <td>...</td>\n    </tr>\n    <tr>\n      <th>107</th>\n      <td>China Hong Kong SAR</td>\n      <td>7</td>\n      <td>NaN</td>\n    </tr>\n    <tr>\n      <th>108</th>\n      <td>Philippines</td>\n      <td>7</td>\n      <td>(POLYGON ((120.8338961121466 12.70449616134243...</td>\n    </tr>\n    <tr>\n      <th>109</th>\n      <td>Singapore</td>\n      <td>7</td>\n      <td>NaN</td>\n    </tr>\n    <tr>\n      <th>110</th>\n      <td>Sri Lanka</td>\n      <td>7</td>\n      <td>(POLYGON ((81.7879590188914 7.523055324733164,...</td>\n    </tr>\n    <tr>\n      <th>111</th>\n      <td>Taiwan</td>\n      <td>7</td>\n      <td>(POLYGON ((121.7778178243899 24.3942735865194,...</td>\n    </tr>\n  </tbody>\n</table>\n<p>112 rows × 3 columns</p>\n</div>"
     },
     "metadata": {},
     "execution_count": 6
    }
   ],
   "source": [
    "locations_df = pd.read_csv(\"Sauvegardes_clean_csv/locations.csv\",index_col='Unnamed: 0')\n",
    "locations_df = locations_df[['name', 'region_id']]\n",
    "locations_df['geo_localisation']= locations_df['name'].map(dic_)\n",
    "locations_df\n",
    "\n",
    "\n"
   ]
  },
  {
   "cell_type": "code",
   "execution_count": 17,
   "metadata": {},
   "outputs": [
    {
     "output_type": "stream",
     "name": "stdout",
     "text": [
      "<class 'shapely.geometry.multipolygon.MultiPolygon'>\n<class 'shapely.geometry.multipolygon.MultiPolygon'>\n<class 'shapely.geometry.multipolygon.MultiPolygon'>\n<class 'shapely.geometry.multipolygon.MultiPolygon'>\n<class 'shapely.geometry.multipolygon.MultiPolygon'>\n<class 'shapely.geometry.multipolygon.MultiPolygon'>\n<class 'shapely.geometry.multipolygon.MultiPolygon'>\n<class 'shapely.geometry.multipolygon.MultiPolygon'>\n<class 'shapely.geometry.multipolygon.MultiPolygon'>\n<class 'shapely.geometry.multipolygon.MultiPolygon'>\n<class 'shapely.geometry.multipolygon.MultiPolygon'>\n<class 'shapely.geometry.multipolygon.MultiPolygon'>\n<class 'shapely.geometry.multipolygon.MultiPolygon'>\n<class 'shapely.geometry.multipolygon.MultiPolygon'>\n<class 'shapely.geometry.multipolygon.MultiPolygon'>\n<class 'float'>\n<class 'shapely.geometry.multipolygon.MultiPolygon'>\n<class 'shapely.geometry.multipolygon.MultiPolygon'>\n<class 'shapely.geometry.multipolygon.MultiPolygon'>\n<class 'shapely.geometry.multipolygon.MultiPolygon'>\n<class 'shapely.geometry.multipolygon.MultiPolygon'>\n<class 'shapely.geometry.multipolygon.MultiPolygon'>\n<class 'float'>\n<class 'shapely.geometry.multipolygon.MultiPolygon'>\n<class 'shapely.geometry.multipolygon.MultiPolygon'>\n<class 'shapely.geometry.multipolygon.MultiPolygon'>\n<class 'shapely.geometry.multipolygon.MultiPolygon'>\n<class 'shapely.geometry.multipolygon.MultiPolygon'>\n<class 'shapely.geometry.multipolygon.MultiPolygon'>\n<class 'shapely.geometry.multipolygon.MultiPolygon'>\n<class 'shapely.geometry.multipolygon.MultiPolygon'>\n<class 'shapely.geometry.multipolygon.MultiPolygon'>\n<class 'float'>\n<class 'shapely.geometry.multipolygon.MultiPolygon'>\n<class 'shapely.geometry.multipolygon.MultiPolygon'>\n<class 'shapely.geometry.multipolygon.MultiPolygon'>\n<class 'shapely.geometry.multipolygon.MultiPolygon'>\n<class 'shapely.geometry.multipolygon.MultiPolygon'>\n<class 'shapely.geometry.multipolygon.MultiPolygon'>\n<class 'shapely.geometry.multipolygon.MultiPolygon'>\n<class 'shapely.geometry.multipolygon.MultiPolygon'>\n<class 'shapely.geometry.multipolygon.MultiPolygon'>\n<class 'shapely.geometry.multipolygon.MultiPolygon'>\n<class 'shapely.geometry.multipolygon.MultiPolygon'>\n<class 'shapely.geometry.multipolygon.MultiPolygon'>\n<class 'float'>\n<class 'shapely.geometry.multipolygon.MultiPolygon'>\n<class 'shapely.geometry.multipolygon.MultiPolygon'>\n<class 'shapely.geometry.multipolygon.MultiPolygon'>\n<class 'shapely.geometry.multipolygon.MultiPolygon'>\n<class 'shapely.geometry.multipolygon.MultiPolygon'>\n<class 'shapely.geometry.multipolygon.MultiPolygon'>\n<class 'shapely.geometry.multipolygon.MultiPolygon'>\n<class 'shapely.geometry.multipolygon.MultiPolygon'>\n<class 'float'>\n<class 'shapely.geometry.multipolygon.MultiPolygon'>\n<class 'shapely.geometry.multipolygon.MultiPolygon'>\n<class 'shapely.geometry.multipolygon.MultiPolygon'>\n<class 'shapely.geometry.multipolygon.MultiPolygon'>\n<class 'shapely.geometry.multipolygon.MultiPolygon'>\n<class 'float'>\n<class 'shapely.geometry.multipolygon.MultiPolygon'>\n<class 'shapely.geometry.multipolygon.MultiPolygon'>\n<class 'shapely.geometry.multipolygon.MultiPolygon'>\n<class 'shapely.geometry.multipolygon.MultiPolygon'>\n<class 'shapely.geometry.multipolygon.MultiPolygon'>\n<class 'shapely.geometry.multipolygon.MultiPolygon'>\n<class 'shapely.geometry.multipolygon.MultiPolygon'>\n<class 'shapely.geometry.multipolygon.MultiPolygon'>\n<class 'shapely.geometry.multipolygon.MultiPolygon'>\n<class 'shapely.geometry.multipolygon.MultiPolygon'>\n<class 'shapely.geometry.multipolygon.MultiPolygon'>\n<class 'shapely.geometry.multipolygon.MultiPolygon'>\n<class 'shapely.geometry.multipolygon.MultiPolygon'>\n<class 'shapely.geometry.multipolygon.MultiPolygon'>\n<class 'shapely.geometry.multipolygon.MultiPolygon'>\n<class 'shapely.geometry.multipolygon.MultiPolygon'>\n<class 'shapely.geometry.multipolygon.MultiPolygon'>\n<class 'float'>\n<class 'float'>\n<class 'float'>\n<class 'shapely.geometry.multipolygon.MultiPolygon'>\n<class 'shapely.geometry.multipolygon.MultiPolygon'>\n<class 'shapely.geometry.multipolygon.MultiPolygon'>\n<class 'shapely.geometry.multipolygon.MultiPolygon'>\n<class 'shapely.geometry.multipolygon.MultiPolygon'>\n<class 'shapely.geometry.multipolygon.MultiPolygon'>\n<class 'shapely.geometry.multipolygon.MultiPolygon'>\n<class 'shapely.geometry.multipolygon.MultiPolygon'>\n<class 'shapely.geometry.multipolygon.MultiPolygon'>\n<class 'shapely.geometry.multipolygon.MultiPolygon'>\n<class 'shapely.geometry.multipolygon.MultiPolygon'>\n<class 'shapely.geometry.multipolygon.MultiPolygon'>\n<class 'float'>\n<class 'shapely.geometry.multipolygon.MultiPolygon'>\n<class 'shapely.geometry.multipolygon.MultiPolygon'>\n<class 'shapely.geometry.multipolygon.MultiPolygon'>\n<class 'shapely.geometry.multipolygon.MultiPolygon'>\n<class 'shapely.geometry.multipolygon.MultiPolygon'>\n<class 'shapely.geometry.multipolygon.MultiPolygon'>\n<class 'shapely.geometry.multipolygon.MultiPolygon'>\n<class 'shapely.geometry.multipolygon.MultiPolygon'>\n<class 'float'>\n<class 'float'>\n<class 'float'>\n<class 'float'>\n<class 'float'>\n<class 'float'>\n<class 'shapely.geometry.multipolygon.MultiPolygon'>\n<class 'float'>\n<class 'shapely.geometry.multipolygon.MultiPolygon'>\n<class 'shapely.geometry.multipolygon.MultiPolygon'>\n"
     ]
    }
   ],
   "source": [
    "locations_df['geo_localisation'] = [MultiPolygon([feature]) if type(feature) == Polygon else feature for feature in locations_df['geo_localisation']]\n",
    "for i in locations_df['geo_localisation']:\n",
    "    print(type(i))"
   ]
  },
  {
   "cell_type": "code",
   "execution_count": 18,
   "metadata": {},
   "outputs": [],
   "source": [
    "locations_df.to_csv(\"Sauvegardes_clean_csv/locations.csv\")"
   ]
  },
  {
   "cell_type": "code",
   "execution_count": 19,
   "metadata": {},
   "outputs": [
    {
     "output_type": "execute_result",
     "data": {
      "text/plain": [
       "                    name  region_id  \\\n",
       "0                 Canada          1   \n",
       "1                 Mexico          1   \n",
       "2                     US          1   \n",
       "3              Argentina          2   \n",
       "4                 Brazil          2   \n",
       "..                   ...        ...   \n",
       "107  China Hong Kong SAR          7   \n",
       "108          Philippines          7   \n",
       "109            Singapore          7   \n",
       "110            Sri Lanka          7   \n",
       "111               Taiwan          7   \n",
       "\n",
       "                                      geo_localisation  \n",
       "0    MULTIPOLYGON (((-122.84 49.00000000000011, -12...  \n",
       "1    MULTIPOLYGON (((-117.1277599999999 32.53533999...  \n",
       "2    MULTIPOLYGON (((-122.84 49.00000000000011, -12...  \n",
       "3    MULTIPOLYGON (((-68.63401022758323 -52.6363704...  \n",
       "4    MULTIPOLYGON (((-53.37366166849824 -33.7683777...  \n",
       "..                                                 ...  \n",
       "107                                                NaN  \n",
       "108  MULTIPOLYGON (((120.8338961121466 12.704496161...  \n",
       "109                                                NaN  \n",
       "110  MULTIPOLYGON (((81.7879590188914 7.52305532473...  \n",
       "111  MULTIPOLYGON (((121.7778178243899 24.394273586...  \n",
       "\n",
       "[112 rows x 3 columns]"
      ],
      "text/html": "<div>\n<style scoped>\n    .dataframe tbody tr th:only-of-type {\n        vertical-align: middle;\n    }\n\n    .dataframe tbody tr th {\n        vertical-align: top;\n    }\n\n    .dataframe thead th {\n        text-align: right;\n    }\n</style>\n<table border=\"1\" class=\"dataframe\">\n  <thead>\n    <tr style=\"text-align: right;\">\n      <th></th>\n      <th>name</th>\n      <th>region_id</th>\n      <th>geo_localisation</th>\n    </tr>\n  </thead>\n  <tbody>\n    <tr>\n      <th>0</th>\n      <td>Canada</td>\n      <td>1</td>\n      <td>MULTIPOLYGON (((-122.84 49.00000000000011, -12...</td>\n    </tr>\n    <tr>\n      <th>1</th>\n      <td>Mexico</td>\n      <td>1</td>\n      <td>MULTIPOLYGON (((-117.1277599999999 32.53533999...</td>\n    </tr>\n    <tr>\n      <th>2</th>\n      <td>US</td>\n      <td>1</td>\n      <td>MULTIPOLYGON (((-122.84 49.00000000000011, -12...</td>\n    </tr>\n    <tr>\n      <th>3</th>\n      <td>Argentina</td>\n      <td>2</td>\n      <td>MULTIPOLYGON (((-68.63401022758323 -52.6363704...</td>\n    </tr>\n    <tr>\n      <th>4</th>\n      <td>Brazil</td>\n      <td>2</td>\n      <td>MULTIPOLYGON (((-53.37366166849824 -33.7683777...</td>\n    </tr>\n    <tr>\n      <th>...</th>\n      <td>...</td>\n      <td>...</td>\n      <td>...</td>\n    </tr>\n    <tr>\n      <th>107</th>\n      <td>China Hong Kong SAR</td>\n      <td>7</td>\n      <td>NaN</td>\n    </tr>\n    <tr>\n      <th>108</th>\n      <td>Philippines</td>\n      <td>7</td>\n      <td>MULTIPOLYGON (((120.8338961121466 12.704496161...</td>\n    </tr>\n    <tr>\n      <th>109</th>\n      <td>Singapore</td>\n      <td>7</td>\n      <td>NaN</td>\n    </tr>\n    <tr>\n      <th>110</th>\n      <td>Sri Lanka</td>\n      <td>7</td>\n      <td>MULTIPOLYGON (((81.7879590188914 7.52305532473...</td>\n    </tr>\n    <tr>\n      <th>111</th>\n      <td>Taiwan</td>\n      <td>7</td>\n      <td>MULTIPOLYGON (((121.7778178243899 24.394273586...</td>\n    </tr>\n  </tbody>\n</table>\n<p>112 rows × 3 columns</p>\n</div>"
     },
     "metadata": {},
     "execution_count": 19
    }
   ],
   "source": [
    "pd.read_csv(\"Sauvegardes_clean_csv/locations.csv\",index_col=0)"
   ]
  },
  {
   "cell_type": "code",
   "execution_count": null,
   "metadata": {},
   "outputs": [],
   "source": []
  },
  {
   "cell_type": "code",
   "execution_count": null,
   "metadata": {},
   "outputs": [],
   "source": []
  },
  {
   "cell_type": "code",
   "execution_count": null,
   "metadata": {},
   "outputs": [],
   "source": []
  }
 ],
 "metadata": {
  "kernelspec": {
   "display_name": "Python 3.8.5 64-bit ('projet_final_simplon': conda)",
   "language": "python",
   "name": "python38564bitprojetfinalsimplonconda3dcee20180dd4a37a3610cdd20c6796e"
  },
  "language_info": {
   "codemirror_mode": {
    "name": "ipython",
    "version": 3
   },
   "file_extension": ".py",
   "mimetype": "text/x-python",
   "name": "python",
   "nbconvert_exporter": "python",
   "pygments_lexer": "ipython3",
   "version": "3.8.2-final"
  }
 },
 "nbformat": 4,
 "nbformat_minor": 4
}