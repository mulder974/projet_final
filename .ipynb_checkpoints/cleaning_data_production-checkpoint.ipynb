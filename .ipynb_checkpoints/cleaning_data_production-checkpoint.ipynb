{
 "cells": [
  {
   "cell_type": "code",
   "execution_count": 1,
   "metadata": {},
   "outputs": [],
   "source": [
    "import pandas as pd\n"
   ]
  },
  {
   "cell_type": "code",
   "execution_count": null,
   "metadata": {},
   "outputs": [],
   "source": [
    "conso_sheets_list = ['Primary Energy Consumption',\n",
    "                     'Oil Production - Tonnes',\n",
    "                     'Gas Production - EJ',\n",
    "                     'Coal Production - EJ',\n",
    "                     'Nuclear Generation - TWh',\n",
    "                     'Hydro Generation - TWh',\n",
    "                     'Solar Generation - TWh',\n",
    "                     'Wind Generation -TWh',\n",
    "                     'Geo Biomass Other - TWh',\n",
    "                     'Biofuels Production - PJ']\n",
    "\n",
    "def excel_to_dataframe(sheet:str):\n",
    "  df = pd.read_excel('data_brut/bp-stats-review-2020-all-data.xlsx',\n",
    "                    sheet_name=sheet,\n",
    "                    skiprows=[0,1], skipfooter=8)\n",
    "  df = df.drop(['2019.1','2008-18','2019.2'],axis=1)\n",
    "  df = df.transpose()\n",
    "  new_header = df.iloc[0]\n",
    "  df = df[1:]\n",
    "  df.columns = new_header\n",
    "  df = df.dropna(1,how='all')\n",
    "  df = df.dropna(0, how='all')\n",
    "  return df\n",
    "\n",
    "data_list = []\n",
    "for sheet in conso_sheets_list:\n",
    "  clean_df = excel_to_dataframe(sheet)\n",
    "  data_list.append(clean_df)"
   ]
  }
 ],
 "metadata": {
  "kernelspec": {
   "display_name": "Python 3",
   "language": "python",
   "name": "python3"
  },
  "language_info": {
   "codemirror_mode": {
    "name": "ipython",
    "version": 3
   },
   "file_extension": ".py",
   "mimetype": "text/x-python",
   "name": "python",
   "nbconvert_exporter": "python",
   "pygments_lexer": "ipython3",
   "version": "3.7.6"
  }
 },
 "nbformat": 4,
 "nbformat_minor": 4
}
